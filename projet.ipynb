{
 "cells": [
  {
   "attachments": {},
   "cell_type": "markdown",
   "metadata": {},
   "source": [
    "# Set up"
   ]
  },
  {
   "cell_type": "code",
   "execution_count": 63,
   "metadata": {},
   "outputs": [],
   "source": [
    "# Libraries\n",
    "import gurobipy as grb\n",
    "from gurobipy import GRB, quicksum\n",
    "import matplotlib.pyplot as plt\n",
    "model = grb.Model(\"Model\")"
   ]
  },
  {
   "cell_type": "markdown",
   "metadata": {},
   "source": [
    "# Decision variables"
   ]
  },
  {
   "cell_type": "code",
   "execution_count": 64,
   "metadata": {},
   "outputs": [],
   "source": [
    "# Add decision variables\n",
    "# We take the same notation that the \"elements de solution folder\"\n",
    "p = 5     # nb de personnel\n",
    "n = 5     # nb de projet\n",
    "q = 3     # nb de qualification\n",
    "h = 12    # horizon temporel, nb de jour de projets\n",
    "\n",
    "# Données personnelles\n",
    "Q = [ [0,1], [2], [0], [1], [0,1,2]] #competences par personne\n",
    "V = [ [0, 5, 8], [], [], [], []] #congés par personne\n",
    "\n",
    "# Données des projets\n",
    "G =  [10, 10, 10, 10, 10] #gain par projet\n",
    "P =  [1, 1, 1, 1, 1] #penalite par projet\n",
    "# nombre de jours par compétence par projet / ex : le projet 2 necessite 7 jours de travail sur la compétance C\n",
    "C = [[4,3,2],[3,2,7],[4,1,5],[3,3,3],[1,1,4]] \n",
    "D = [3,5,8,9,11] # Deadline\n",
    "\n",
    "# Variables\n",
    "X = model.addVars(p, n, q, h, vtype=GRB.BINARY)     \n",
    "Y = model.addVars(n, vtype=GRB.BINARY)  # Le projet est-il complété en fin d'horizon temporel ?\n",
    "L = model.addVars(n, vtype=GRB.INTEGER) # Jours de retard de chaque projets\n",
    "E = model.addVars(n, vtype=GRB.INTEGER) # Date de fin effective de realisation du projet"
   ]
  },
  {
   "cell_type": "markdown",
   "metadata": {},
   "source": [
    "# Constraints"
   ]
  },
  {
   "cell_type": "code",
   "execution_count": 65,
   "metadata": {},
   "outputs": [],
   "source": [
    "# Add constraints\n",
    "\n",
    "no_ubiquity = []\n",
    "for i in range(p):\n",
    "    for t in range(h):\n",
    "        no_ubiquity += [model.addConstr(sum(X[i, j, k, t] for j in range(n) for k in range(q)) <= 1)]\n",
    "\n",
    "no_forced_work = []\n",
    "for i in range(p):\n",
    "    for t in V[i]:\n",
    "        no_forced_work += [model.addConstr(sum(X[i, j, k, t] for j in range(n) for k in range(q)) == 0)]\n",
    "\n",
    "end_of_poject = []\n",
    "for j in range(n):\n",
    "    for k in range(q):\n",
    "        if C[j][k] > 0:\n",
    "            end_of_poject += [model.addConstr( Y[j] * C[j][k] <= sum(X[i, j, k, t] for i in range(p) for t in range(h)))]\n",
    "\n",
    "skill_constr = []\n",
    "for i in range(p):\n",
    "    for j in range(n):\n",
    "        for k in range(q):\n",
    "            for t in range(h):\n",
    "                if (k not in Q[i]) or (C[j][k] == 0) :\n",
    "                    skill_constr += [model.addConstr(X[i,j,k,t] == 0)]\n",
    "\n",
    "no_overwork = []\n",
    "for j in range(n):\n",
    "    for k in range(q):\n",
    "        no_overwork += [model.addConstr(sum(X[i, j, k, t] for i in range(p) for t in range(h)) <= C[j][k])]\n",
    "\n",
    "model.addConstrs((X[i,j,k,t] * t <= E[j] for i in range(p) for j in range(n) for k in range(q) for t in range(h)))\n",
    "\n",
    "model.addConstrs((E[j] - D[j] <= L[j] for j in range(n)))\n",
    "\n",
    "model.update()"
   ]
  },
  {
   "attachments": {},
   "cell_type": "markdown",
   "metadata": {},
   "source": [
    "# Variables and Constraints  for multi criteria decision"
   ]
  },
  {
   "attachments": {},
   "cell_type": "markdown",
   "metadata": {},
   "source": [
    "#### Project duration "
   ]
  },
  {
   "cell_type": "code",
   "execution_count": 66,
   "metadata": {},
   "outputs": [],
   "source": [
    "B = model.addVars(n, vtype=GRB.INTEGER)   # Begining dates\n",
    "E = model.addVars(n, vtype=GRB.INTEGER)   # End dates\n",
    "\n",
    "model.addConstrs(\n",
    "    B[j] <= X[i, j, k, t] * t + (1 - X[i, j, k, t]) * h\n",
    "    for i in range(p)\n",
    "    for j in range(n) \n",
    "    for k in range(q)\n",
    "    for t in range(h)    \n",
    ")\n",
    "\n",
    "model.addConstrs(\n",
    "    E[j] >= X[i, j, k, t] * t \n",
    "    for i in range(p)\n",
    "    for j in range(n) \n",
    "    for k in range(q)\n",
    "    for t in range(h)    \n",
    ")\n",
    "\n",
    "model.update()"
   ]
  },
  {
   "attachments": {},
   "cell_type": "markdown",
   "metadata": {},
   "source": [
    "#### Number of project for people"
   ]
  },
  {
   "cell_type": "code",
   "execution_count": 67,
   "metadata": {},
   "outputs": [],
   "source": [
    "R = model.addVars(p,n, vtype=GRB.BINARY)   # p a participé au projet n ?\n",
    "\n",
    "for i in range(p):\n",
    "    for j in range(n) :\n",
    "        for k in range(q) :\n",
    "            for t in range(h):\n",
    "                model.addConstr(R[i,j] >= X[i, j, k, t] )\n",
    "\n",
    "model.update()"
   ]
  },
  {
   "attachments": {},
   "cell_type": "markdown",
   "metadata": {},
   "source": [
    "#### get criteria value"
   ]
  },
  {
   "cell_type": "code",
   "execution_count": 68,
   "metadata": {},
   "outputs": [],
   "source": [
    "def get_profit():\n",
    "    return sum(Y[j].x * G[j] - L[j].x * P[j] for j in range(n))\n",
    "\n",
    "def get_avg_project_duration():\n",
    "    return sum(E[j].x - B[j].x for j in range(n)) / n\n",
    "\n",
    "def get_avg_projects_per_person():\n",
    "    return sum(R[i,j].x for i in range(p) for j in range(n)) / p "
   ]
  },
  {
   "attachments": {},
   "cell_type": "markdown",
   "metadata": {},
   "source": [
    "# Optimization"
   ]
  },
  {
   "attachments": {},
   "cell_type": "markdown",
   "metadata": {},
   "source": [
    "### Optimization with various preferences in criteria "
   ]
  },
  {
   "cell_type": "code",
   "execution_count": 69,
   "metadata": {},
   "outputs": [
    {
     "name": "stdout",
     "output_type": "stream",
     "text": [
      "Gurobi Optimizer version 9.1.2 build v9.1.2rc0 (mac64)\n",
      "Thread count: 2 physical cores, 4 logical processors, using up to 4 threads\n",
      "Optimize a model with 4118 rows, 950 columns and 10240 nonzeros\n",
      "Model fingerprint: 0xa1e26e37\n",
      "Variable types: 0 continuous, 950 integer (930 binary)\n",
      "Coefficient statistics:\n",
      "  Matrix range     [1e+00, 1e+01]\n",
      "  Objective range  [1e+00, 1e+02]\n",
      "  Bounds range     [1e+00, 1e+00]\n",
      "  RHS range        [1e+00, 1e+01]\n",
      "Found heuristic solution: objective -0.0000000\n",
      "Presolve removed 3659 rows and 466 columns\n",
      "Presolve time: 0.08s\n",
      "Presolved: 459 rows, 484 columns, 2357 nonzeros\n",
      "Variable types: 0 continuous, 484 integer (480 binary)\n",
      "\n",
      "Root relaxation: objective 4.903125e+02, 895 iterations, 0.05 seconds\n",
      "\n",
      "    Nodes    |    Current Node    |     Objective Bounds      |     Work\n",
      " Expl Unexpl |  Obj  Depth IntInf | Incumbent    BestBd   Gap | It/Node Time\n",
      "\n",
      "     0     0  490.31250    0  109   -0.00000  490.31250      -     -    0s\n",
      "H    0     0                     195.0000000  490.31250   151%     -    0s\n",
      "H    0     0                     281.0000000  490.31250  74.5%     -    0s\n",
      "H    0     0                     293.0000000  490.31250  67.3%     -    0s\n",
      "H    0     0                     340.0000000  490.31250  44.2%     -    0s\n",
      "     0     0  487.83007    0   98  340.00000  487.83007  43.5%     -    0s\n",
      "     0     0  487.41340    0  104  340.00000  487.41340  43.4%     -    0s\n",
      "H    0     0                     367.0000000  487.41340  32.8%     -    0s\n",
      "H    0     0                     368.0000000  487.41340  32.4%     -    0s\n",
      "     0     0  487.19737    0   93  368.00000  487.19737  32.4%     -    0s\n",
      "H    0     0                     388.0000000  487.19737  25.6%     -    0s\n",
      "H    0     0                     484.0000000  487.19737  0.66%     -    0s\n",
      "     0     0  487.12945    0  100  484.00000  487.12945  0.65%     -    0s\n",
      "     0     0  486.89286    0   92  484.00000  486.89286  0.60%     -    0s\n",
      "     0     0  486.89286    0  108  484.00000  486.89286  0.60%     -    0s\n",
      "     0     0  486.89286    0  103  484.00000  486.89286  0.60%     -    0s\n",
      "     0     0  486.66667    0   82  484.00000  486.66667  0.55%     -    0s\n",
      "     0     0  486.66667    0   91  484.00000  486.66667  0.55%     -    0s\n",
      "     0     0  486.66667    0  101  484.00000  486.66667  0.55%     -    0s\n",
      "     0     0  486.64855    0  104  484.00000  486.64855  0.55%     -    0s\n",
      "     0     0  486.61822    0  114  484.00000  486.61822  0.54%     -    0s\n",
      "     0     0  486.61508    0  113  484.00000  486.61508  0.54%     -    1s\n",
      "     0     0  486.61508    0  104  484.00000  486.61508  0.54%     -    1s\n",
      "     0     0  486.60383    0  105  484.00000  486.60383  0.54%     -    1s\n",
      "     0     0  486.60383    0   73  484.00000  486.60383  0.54%     -    1s\n",
      "H    0     0                     486.0000000  486.60383  0.12%     -    1s\n",
      "     0     0  486.60383    0   73  486.00000  486.60383  0.12%     -    1s\n",
      "\n",
      "Cutting planes:\n",
      "  Gomory: 5\n",
      "  Clique: 2\n",
      "  MIR: 7\n",
      "  Zero half: 2\n",
      "  Mod-K: 2\n",
      "  RLT: 10\n",
      "\n",
      "Explored 1 nodes (2336 simplex iterations) in 1.20 seconds\n",
      "Thread count was 4 (of 4 available processors)\n",
      "\n",
      "Solution count 10: 486 484 388 ... -0\n",
      "\n",
      "Optimal solution found (tolerance 1.00e-04)\n",
      "Best objective 4.860000000000e+02, best bound 4.860000000000e+02, gap 0.0000%\n",
      "Gurobi Optimizer version 9.1.2 build v9.1.2rc0 (mac64)\n",
      "Thread count: 2 physical cores, 4 logical processors, using up to 4 threads\n",
      "Optimize a model with 4118 rows, 950 columns and 10240 nonzeros\n",
      "Model fingerprint: 0xb3262c9a\n",
      "Variable types: 0 continuous, 950 integer (930 binary)\n",
      "Coefficient statistics:\n",
      "  Matrix range     [1e+00, 1e+01]\n",
      "  Objective range  [1e+00, 1e+02]\n",
      "  Bounds range     [1e+00, 1e+00]\n",
      "  RHS range        [1e+00, 1e+01]\n",
      "\n",
      "Loaded MIP start from previous solve with objective 464\n",
      "\n",
      "Presolve removed 3290 rows and 486 columns\n",
      "Presolve time: 0.05s\n",
      "Presolved: 828 rows, 464 columns, 2656 nonzeros\n",
      "Variable types: 0 continuous, 464 integer (450 binary)\n",
      "\n",
      "Root relaxation: objective 5.191041e+02, 687 iterations, 0.03 seconds\n",
      "\n",
      "    Nodes    |    Current Node    |     Objective Bounds      |     Work\n",
      " Expl Unexpl |  Obj  Depth IntInf | Incumbent    BestBd   Gap | It/Node Time\n",
      "\n",
      "     0     0  519.10414    0  202  464.00000  519.10414  11.9%     -    0s\n",
      "H    0     0                     478.0000000  519.10414  8.60%     -    0s\n",
      "     0     0  513.72193    0  165  478.00000  513.72193  7.47%     -    0s\n",
      "H    0     0                     480.0000000  513.72193  7.03%     -    0s\n",
      "     0     0  513.62663    0  163  480.00000  513.62663  7.01%     -    0s\n",
      "     0     0  513.49849    0  157  480.00000  513.49849  6.98%     -    0s\n",
      "     0     0  513.49380    0  163  480.00000  513.49380  6.98%     -    0s\n",
      "     0     0  513.48484    0  161  480.00000  513.48484  6.98%     -    0s\n",
      "     0     0  513.48484    0  161  480.00000  513.48484  6.98%     -    0s\n",
      "     0     0  513.15575    0  157  480.00000  513.15575  6.91%     -    0s\n",
      "     0     0  513.08222    0  160  480.00000  513.08222  6.89%     -    0s\n",
      "     0     0  513.07528    0  159  480.00000  513.07528  6.89%     -    0s\n",
      "     0     0  513.07463    0  157  480.00000  513.07463  6.89%     -    0s\n",
      "     0     0  512.51485    0  124  480.00000  512.51485  6.77%     -    0s\n",
      "H    0     0                     487.0000000  512.51485  5.24%     -    0s\n",
      "     0     0  512.49502    0  135  487.00000  512.49502  5.24%     -    0s\n",
      "     0     0  512.48156    0  135  487.00000  512.48156  5.23%     -    0s\n",
      "     0     0  512.47391    0  138  487.00000  512.47391  5.23%     -    0s\n",
      "     0     0  511.69124    0  149  487.00000  511.69124  5.07%     -    0s\n",
      "     0     0  511.54759    0  127  487.00000  511.54759  5.04%     -    0s\n",
      "     0     0  511.51586    0  140  487.00000  511.51586  5.03%     -    0s\n",
      "     0     0  511.48095    0  141  487.00000  511.48095  5.03%     -    0s\n",
      "     0     0  511.47660    0  152  487.00000  511.47660  5.03%     -    0s\n",
      "     0     0  511.39702    0  136  487.00000  511.39702  5.01%     -    0s\n",
      "     0     0  511.39142    0  135  487.00000  511.39142  5.01%     -    0s\n",
      "     0     0  511.34116    0  136  487.00000  511.34116  5.00%     -    0s\n",
      "     0     0  511.34116    0  126  487.00000  511.34116  5.00%     -    1s\n",
      "H    0     0                     489.0000000  511.33911  4.57%     -    1s\n",
      "     0     2  511.33911    0  122  489.00000  511.33911  4.57%     -    1s\n",
      "H  494   300                     491.0000000  509.70574  3.81%  37.6    2s\n",
      "   789   471  499.70508    9  122  491.00000  499.70508  1.77%  41.7    5s\n",
      "H 1273   358                     492.0000000  494.57626  0.52%  44.8    6s\n",
      "\n",
      "Cutting planes:\n",
      "  Gomory: 5\n",
      "  Projected implied bound: 2\n",
      "  MIR: 13\n",
      "  Flow cover: 35\n",
      "  Zero half: 13\n",
      "  Relax-and-lift: 22\n",
      "\n",
      "Explored 1421 nodes (64284 simplex iterations) in 6.96 seconds\n",
      "Thread count was 4 (of 4 available processors)\n",
      "\n",
      "Solution count 7: 492 491 489 ... 464\n",
      "\n",
      "Optimal solution found (tolerance 1.00e-04)\n",
      "Best objective 4.920000000000e+02, best bound 4.920000000000e+02, gap 0.0000%\n",
      "\n",
      "Optimal objective value:  492.0\n"
     ]
    }
   ],
   "source": [
    "# alpha va de 0.1 à 10\n",
    "alpha = 0        # Va de de 0 à 1 \n",
    "nb_points = 10\n",
    "profits = []\n",
    "avg_durations = []\n",
    "avg_ppps = []\n",
    "\n",
    "gain_obj = quicksum(Y[j] * G[j] - L[j] * P[j] for j in range(n))\n",
    "duration_obj = quicksum(E[j] - B[j] for j in range(n))\n",
    "project_per_person_obj = quicksum(R[i,j] for i in range(p) for j in range(n))\n",
    "\n",
    "for alpha in range(nb_points):\n",
    "    alpha = alpha / (nb_points -1)\n",
    "\n",
    "    # Nous donnaons beaucoup de valeur au gain car nous estimons que c'est le critère le plus important\n",
    "    # Voyons l'impact des poids attribués aux critères sur la durée et le nombre de personnes par projet\n",
    "    \n",
    "    model.setObjective(10 * gain_obj - alpha * duration_obj - (1-alpha) * project_per_person_obj , GRB.MAXIMIZE)\n",
    "    model.optimize()\n",
    "\n",
    "    profits.append(get_profit())\n",
    "    avg_durations.append(get_avg_project_duration())\n",
    "    avg_ppps.append(get_avg_projects_per_person())\n",
    "\n",
    "print(\"\\nOptimal objective value: \", round(model.ObjVal,0))"
   ]
  },
  {
   "attachments": {},
   "cell_type": "markdown",
   "metadata": {},
   "source": [
    "#### Dominance graph"
   ]
  },
  {
   "cell_type": "code",
   "execution_count": 79,
   "metadata": {},
   "outputs": [
    {
     "data": {
      "image/png": "[encoded data removed]",
      "text/plain": [
       "<Figure size 432x288 with 1 Axes>"
      ]
     },
     "metadata": {},
     "output_type": "display_data"
    }
   ],
   "source": [
    "# Pour l'exmple du cours et nos critères, il n'y a que 4 solutions non dominées :\n",
    "critere1 = [2.8, 2.8, 3.0, 4.2] \n",
    "critere2 = [7.2, 3.4, 2.8, 1.6]\n",
    "\n",
    "plt.scatter(avg_durations, avg_ppps)\n",
    "plt.title(\"Solutions non-dominées ayant un gain maximum\")\n",
    "plt.xlabel(\"Nombre de projet moyen par personne\")\n",
    "plt.ylabel(\"Durée moyenne d'un projet\")\n",
    "plt.show()"
   ]
  },
  {
   "attachments": {},
   "cell_type": "markdown",
   "metadata": {},
   "source": [
    "# Categorisation of a given planning (Ne fonctionne pas pour l'instant)"
   ]
  },
  {
   "cell_type": "code",
   "execution_count": null,
   "metadata": {},
   "outputs": [],
   "source": [
    "def get_profit_d():\n",
    "    return sum(Y[j] * G[j] - L[j] * P[j] for j in range(n))\n",
    "\n",
    "def get_avg_project_duration_d(X):\n",
    "    return sum(E[j] - B[j] for j in range(n)) / n\n",
    "\n",
    "def get_avg_projects_per_person_d(X):\n",
    "    return sum(R[i,j] for i in range(p) for j in range(n)) / p   "
   ]
  },
  {
   "cell_type": "code",
   "execution_count": 59,
   "metadata": {},
   "outputs": [],
   "source": [
    "X_decideur = [ X[i,j,k,t].x for i in range(p) for j in range(n) for k in range(q) for t in range(h) ]\n",
    "\n",
    "def planning_categorisation(X_decideur):\n",
    "\n",
    "    profit_d = get_profit_d(X_decideur)\n",
    "    avg_duration_d = get_avg_project_duration_d(X_decideur)\n",
    "    avg_ppp_d = get_avg_projects_per_person_d(X_decideur)\n",
    "\n",
    "    if profit_d == max(profits):\n",
    "        for k in range(nb_points):\n",
    "            if avg_durations[k] < avg_duration_d:\n",
    "                if avg_ppps[k] < avg_ppp_d:\n",
    "                    print(\"Planning inacceptable car dominé par le point : \", k)\n",
    "                    return 2\n",
    "        print(\"Planning est satisfaisant\")\n",
    "        return 0\n",
    "    for k in range(nb_points):\n",
    "        if avg_durations[k] <= avg_duration_d:\n",
    "            if avg_ppps[k] <= avg_ppp_d:\n",
    "                print(\"Planning inacceptable car dominé par le point : \", k)\n",
    "                return 2\n",
    "    print(\"Planning correct car n'est pas dominé, cepandant son gain n'est pas maximum\")\n",
    "    return 1\n",
    "\n"
   ]
  },
  {
   "cell_type": "code",
   "execution_count": 60,
   "metadata": {},
   "outputs": [],
   "source": [
    "def show_X_decideur_on_domination_graph(X_decideur, categorisation = \"\"):\n",
    "    profit_d = get_profit(X_decideur)\n",
    "    avg_duration_d = get_avg_project_duration(X_decideur)\n",
    "    avg_ppp_d = get_avg_projects_per_person(X_decideur)\n",
    "\n",
    "    plt.scatter(avg_durations, avg_ppps)\n",
    "    plt.scatter(avg_duration_d, avg_ppp_d)\n",
    "    plt.xlabel(\"Nombre de projet moyen par personne\")\n",
    "    plt.ylabel(\"Durée moyenne d'un projet\")\n",
    "    plt.show()\n",
    "        "
   ]
  },
  {
   "attachments": {},
   "cell_type": "markdown",
   "metadata": {},
   "source": [
    "# Affichage du planning"
   ]
  },
  {
   "attachments": {},
   "cell_type": "markdown",
   "metadata": {},
   "source": [
    "#### Affichage par personne"
   ]
  },
  {
   "cell_type": "code",
   "execution_count": 61,
   "metadata": {},
   "outputs": [
    {
     "name": "stdout",
     "output_type": "stream",
     "text": [
      "\n",
      "Emploi du temps personne  0  : \n",
      "Jour  1  Compétence  1  sur projet  0\n",
      "Jour  2  Compétence  1  sur projet  1\n",
      "Jour  3  Compétence  1  sur projet  1\n",
      "Jour  6  Compétence  1  sur projet  2\n",
      "Jour  7  Compétence  0  sur projet  2\n",
      "Jour  9  Compétence  0  sur projet  3\n",
      "Jour  10  Compétence  1  sur projet  4\n",
      "Jour  11  Compétence  0  sur projet  4\n",
      "Jours travailés :  8\n",
      "\n",
      "Emploi du temps personne  1  : \n",
      "Jour  0  Compétence  2  sur projet  0\n",
      "Jour  1  Compétence  2  sur projet  0\n",
      "Jour  2  Compétence  2  sur projet  1\n",
      "Jour  3  Compétence  2  sur projet  1\n",
      "Jour  4  Compétence  2  sur projet  1\n",
      "Jour  5  Compétence  2  sur projet  2\n",
      "Jour  6  Compétence  2  sur projet  2\n",
      "Jour  7  Compétence  2  sur projet  2\n",
      "Jour  8  Compétence  2  sur projet  3\n",
      "Jour  9  Compétence  2  sur projet  3\n",
      "Jour  10  Compétence  2  sur projet  4\n",
      "Jour  11  Compétence  2  sur projet  4\n",
      "Jours travailés :  12\n",
      "\n",
      "Emploi du temps personne  2  : \n",
      "Jour  0  Compétence  0  sur projet  0\n",
      "Jour  1  Compétence  0  sur projet  0\n",
      "Jour  2  Compétence  0  sur projet  1\n",
      "Jour  3  Compétence  0  sur projet  1\n",
      "Jour  4  Compétence  0  sur projet  1\n",
      "Jour  5  Compétence  0  sur projet  2\n",
      "Jour  6  Compétence  0  sur projet  2\n",
      "Jour  7  Compétence  0  sur projet  2\n",
      "Jour  8  Compétence  0  sur projet  3\n",
      "Jour  9  Compétence  0  sur projet  3\n",
      "Jours travailés :  10\n",
      "\n",
      "Emploi du temps personne  3  : \n",
      "Jour  0  Compétence  1  sur projet  0\n",
      "Jour  1  Compétence  1  sur projet  0\n",
      "Jour  8  Compétence  1  sur projet  3\n",
      "Jour  9  Compétence  1  sur projet  3\n",
      "Jours travailés :  4\n",
      "\n",
      "Emploi du temps personne  4  : \n",
      "Jour  0  Compétence  0  sur projet  0\n",
      "Jour  1  Compétence  0  sur projet  0\n",
      "Jour  2  Compétence  2  sur projet  1\n",
      "Jour  3  Compétence  2  sur projet  1\n",
      "Jour  4  Compétence  2  sur projet  1\n",
      "Jour  5  Compétence  2  sur projet  1\n",
      "Jour  6  Compétence  2  sur projet  2\n",
      "Jour  7  Compétence  2  sur projet  2\n",
      "Jour  8  Compétence  2  sur projet  3\n",
      "Jour  9  Compétence  1  sur projet  3\n",
      "Jour  10  Compétence  2  sur projet  4\n",
      "Jour  11  Compétence  2  sur projet  4\n",
      "Jours travailés :  12\n"
     ]
    }
   ],
   "source": [
    "for i in range(p):\n",
    "    jours_travaille = 0\n",
    "    print(\"\\nEmploi du temps personne \",i, \" : \")\n",
    "    for t in range(h):\n",
    "        for k in range(q):\n",
    "            for j in range(n):\n",
    "                if X[i,j,k,t].x != 0:\n",
    "                    jours_travaille += 1\n",
    "                    print(\"Jour \", t, \" Compétence \", k, \" sur projet \", j)\n",
    "    print(\"Jours travailés : \", jours_travaille)"
   ]
  },
  {
   "attachments": {},
   "cell_type": "markdown",
   "metadata": {},
   "source": [
    "#### Affichage par projet"
   ]
  },
  {
   "cell_type": "code",
   "execution_count": 62,
   "metadata": {},
   "outputs": [
    {
     "name": "stdout",
     "output_type": "stream",
     "text": [
      "\n",
      "Allocation pour le projet  0  : \n",
      "Durée du projet :  1.0\n",
      " Compétence  0  par personne  2  Jour  0\n",
      " Compétence  0  par personne  2  Jour  1\n",
      " Compétence  0  par personne  4  Jour  0\n",
      " Compétence  0  par personne  4  Jour  1\n",
      " Compétence  1  par personne  0  Jour  1\n",
      " Compétence  1  par personne  3  Jour  0\n",
      " Compétence  1  par personne  3  Jour  1\n",
      " Compétence  2  par personne  1  Jour  0\n",
      " Compétence  2  par personne  1  Jour  1\n",
      "\n",
      "Allocation pour le projet  1  : \n",
      "Durée du projet :  3.0\n",
      " Compétence  0  par personne  2  Jour  2\n",
      " Compétence  0  par personne  2  Jour  3\n",
      " Compétence  0  par personne  2  Jour  4\n",
      " Compétence  1  par personne  0  Jour  2\n",
      " Compétence  1  par personne  0  Jour  3\n",
      " Compétence  2  par personne  1  Jour  2\n",
      " Compétence  2  par personne  1  Jour  3\n",
      " Compétence  2  par personne  1  Jour  4\n",
      " Compétence  2  par personne  4  Jour  2\n",
      " Compétence  2  par personne  4  Jour  3\n",
      " Compétence  2  par personne  4  Jour  4\n",
      " Compétence  2  par personne  4  Jour  5\n",
      "\n",
      "Allocation pour le projet  2  : \n",
      "Durée du projet :  2.0\n",
      " Compétence  0  par personne  0  Jour  7\n",
      " Compétence  0  par personne  2  Jour  5\n",
      " Compétence  0  par personne  2  Jour  6\n",
      " Compétence  0  par personne  2  Jour  7\n",
      " Compétence  1  par personne  0  Jour  6\n",
      " Compétence  2  par personne  1  Jour  5\n",
      " Compétence  2  par personne  1  Jour  6\n",
      " Compétence  2  par personne  1  Jour  7\n",
      " Compétence  2  par personne  4  Jour  6\n",
      " Compétence  2  par personne  4  Jour  7\n",
      "\n",
      "Allocation pour le projet  3  : \n",
      "Durée du projet :  1.0\n",
      " Compétence  0  par personne  0  Jour  9\n",
      " Compétence  0  par personne  2  Jour  8\n",
      " Compétence  0  par personne  2  Jour  9\n",
      " Compétence  1  par personne  3  Jour  8\n",
      " Compétence  1  par personne  3  Jour  9\n",
      " Compétence  1  par personne  4  Jour  9\n",
      " Compétence  2  par personne  1  Jour  8\n",
      " Compétence  2  par personne  1  Jour  9\n",
      " Compétence  2  par personne  4  Jour  8\n",
      "\n",
      "Allocation pour le projet  4  : \n",
      "Durée du projet :  1.0\n",
      " Compétence  0  par personne  0  Jour  11\n",
      " Compétence  1  par personne  0  Jour  10\n",
      " Compétence  2  par personne  1  Jour  10\n",
      " Compétence  2  par personne  1  Jour  11\n",
      " Compétence  2  par personne  4  Jour  10\n",
      " Compétence  2  par personne  4  Jour  11\n",
      "Durée moyenne des projets :  1.6\n"
     ]
    }
   ],
   "source": [
    "for j in range(n):\n",
    "    print(\"\\nAllocation pour le projet \",j, \" : \")\n",
    "    print(\"Durée du projet : \", E[j].x - B[j].x )\n",
    "    for k in range(q):\n",
    "        for i in range(p):\n",
    "            for t in range(h):\n",
    "                if X[i,j,k,t].x != 0:\n",
    "                    print(\" Compétence \", k, \" par personne \", i, \" Jour \", t)\n",
    "\n",
    "print(\"Durée moyenne des projets : \", sum(E[j].x - B[j].x for j in range(n)) / n)"
   ]
  },
  {
   "attachments": {},
   "cell_type": "markdown",
   "metadata": {},
   "source": [
    "# Annexe"
   ]
  },
  {
   "cell_type": "code",
   "execution_count": 141,
   "metadata": {},
   "outputs": [],
   "source": [
    "model.setObjectiveN(quicksum(Y[j] * G[j] - L[j] * P[j] for j in range(n)), 0, 1)\n",
    "model.setObjectiveN(- quicksum(E[j] - B[j] for j in range(n)), 1, 0)\n",
    "model.ModelSense = GRB.MAXIMIZE\n",
    "model.update()\n",
    "model.optimize()"
   ]
  }
 ],
 "metadata": {
  "kernelspec": {
   "display_name": "base",
   "language": "python",
   "name": "python3"
  },
  "language_info": {
   "codemirror_mode": {
    "name": "ipython",
    "version": 3
   },
   "file_extension": ".py",
   "mimetype": "text/x-python",
   "name": "python",
   "nbconvert_exporter": "python",
   "pygments_lexer": "ipython3",
   "version": "3.6.3"
  },
  "orig_nbformat": 4,
  "vscode": {
   "interpreter": {
    "hash": "c8cce8c8e7a50de7def9915479d34fe65073be37c4dea67c74fddd604436eeb6"
   }
  }
 },
 "nbformat": 4,
 "nbformat_minor": 2
}
