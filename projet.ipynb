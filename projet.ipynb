{
 "cells": [
  {
   "attachments": {},
   "cell_type": "markdown",
   "metadata": {},
   "source": [
    "# Set up"
   ]
  },
  {
   "cell_type": "markdown",
   "metadata": {},
   "source": [
    "https://www.gurobi.com/documentation/9.5/refman/py_python_api_overview.html"
   ]
  },
  {
   "cell_type": "code",
   "execution_count": 87,
   "metadata": {},
   "outputs": [],
   "source": [
    "# Libraries\n",
    "import gurobipy as grb\n",
    "from gurobipy import GRB\n",
    "model = grb.Model(\"Model\")"
   ]
  },
  {
   "cell_type": "markdown",
   "metadata": {},
   "source": [
    "# Decision variables"
   ]
  },
  {
   "cell_type": "markdown",
   "metadata": {},
   "source": [
    "https://www.gurobi.com/documentation/9.5/refman/py_model_addvar.html#pythonmethod:Model.addVar\n",
    "https://www.gurobi.com/documentation/9.5/refman/py_model_addvars.html#pythonmethod:Model.addVars\n",
    "https://www.gurobi.com/documentation/9.5/refman/py_model_addmvar.html#pythonmethod:Model.addMVar"
   ]
  },
  {
   "cell_type": "code",
   "execution_count": 93,
   "metadata": {},
   "outputs": [],
   "source": [
    "# Add decision variables\n",
    "# We take the same notation that the \"elements de solution folder\"\n",
    "p = 5     # nb de personnel\n",
    "n = 5     # nb de projet\n",
    "q = 3     # nb de qualification\n",
    "h = 12    # horizon temporel, nb de jour de projets\n",
    "\n",
    "# Données personnelles\n",
    "Q = [ [0,1], [2], [0], [1], [0,1,2]] #competences par personne\n",
    "V = [ [0, 5, 8], [], [], [], []] #congés par personne\n",
    "\n",
    "# Données des projets\n",
    "G =  [10, 10, 10, 10, 10] #gain par projet\n",
    "P =  [1, 1, 1, 1, 1] #penalite par projet\n",
    "# nombre de jours par compétence par projet / ex : le projet 2 necessite 7 jours de travail sur la compétance C\n",
    "C = [[4,3,2],[3,2,7],[4,1,5],[3,3,3],[1,1,4]] \n",
    "D = [3,5,8,9,11] # Deadline\n",
    "\n",
    "# Variables\n",
    "X = model.addVars(p, n, q, h, vtype=GRB.BINARY)     \n",
    "Y = model.addVars(n, vtype=GRB.BINARY)  # Le projet est-il complété en fin d'horizon temporel ?\n",
    "L = model.addVars(n, vtype=GRB.INTEGER) # Jours de retard de chaque projets\n",
    "E = model.addVars(n, vtype=GRB.INTEGER) # Date de fin effective de realisation du projet"
   ]
  },
  {
   "cell_type": "markdown",
   "metadata": {},
   "source": [
    "# Constraints"
   ]
  },
  {
   "cell_type": "markdown",
   "metadata": {},
   "source": [
    "https://www.gurobi.com/documentation/9.5/refman/py_model_addconstr.html#pythonmethod:Model.addConstr\n",
    "https://www.gurobi.com/documentation/9.5/refman/py_model_addconstrs.html#pythonmethod:Model.addConstrs"
   ]
  },
  {
   "cell_type": "code",
   "execution_count": 94,
   "metadata": {},
   "outputs": [],
   "source": [
    "# Add constraints\n",
    "\n",
    "no_ubiquity = []\n",
    "for i in range(p):\n",
    "    for t in range(h):\n",
    "        no_ubiquity += [model.addConstr(sum(X[i, j, k, t] for j in range(n) for k in range(q)) <= 1)]\n",
    "\n",
    "no_forced_work = []\n",
    "for i in range(p):\n",
    "    for t in V[i]:\n",
    "        no_forced_work += [model.addConstr(sum(X[i, j, k, t] for j in range(n) for k in range(q)) == 0)]\n",
    "\n",
    "end_of_poject = []\n",
    "for j in range(n):\n",
    "    for k in range(q):\n",
    "        if C[j][k] > 0:\n",
    "            end_of_poject += [model.addConstr( Y[j] * C[j][k] <= sum(X[i, j, k, t] for i in range(p) for t in range(h)))]\n",
    "\n",
    "skill_constr = []\n",
    "for i in range(p):\n",
    "    for j in range(n):\n",
    "        for k in range(q):\n",
    "            for t in range(h):\n",
    "                if (k not in Q[i]) or (C[j][k] == 0) :\n",
    "                    skill_constr += [model.addConstr(X[i,j,k,t] == 0)]\n",
    "\n",
    "no_overwork = []\n",
    "for j in range(n):\n",
    "    for k in range(q):\n",
    "        no_overwork += [model.addConstr(sum(X[i, j, k, t] for i in range(p) for t in range(h)) <= C[j][k])]\n",
    "\n",
    "model.addConstrs((X[i,j,k,t] * t <= E[j] for i in range(p) for j in range(n) for k in range(q) for t in range(h)))\n",
    "\n",
    "model.addConstrs((E[j] - D[j] <= L[j] for j in range(n)))\n",
    "\n",
    "model.update()"
   ]
  },
  {
   "cell_type": "code",
   "execution_count": 95,
   "metadata": {},
   "outputs": [],
   "source": [
    "def remove_constr(constr_list):\n",
    "    for constr in constr_list:\n",
    "        model.remove(constr)\n",
    "\n",
    "# remove_constr(no_ubiquity)\n",
    "# remove_constr(no_forced_work)\n",
    "# remove_constr(skill_constr)\n",
    "# remove_constr(no_overwork)"
   ]
  },
  {
   "attachments": {},
   "cell_type": "markdown",
   "metadata": {},
   "source": [
    "# Optimization"
   ]
  },
  {
   "cell_type": "markdown",
   "metadata": {},
   "source": [
    "https://www.gurobi.com/documentation/9.5/refman/py_lex.html#pythonclass:LinExpr"
   ]
  },
  {
   "cell_type": "code",
   "execution_count": 108,
   "metadata": {},
   "outputs": [],
   "source": [
    "#model.setObjective(sum(Y[j] * G[j] - L[j] * P[j] for j in range(n)), GRB.MAXIMIZE)\n",
    "\n",
    "#model.optimize()\n",
    "#print(\"\\nOptimal objective value: \", model.ObjVal)"
   ]
  },
  {
   "cell_type": "code",
   "execution_count": 113,
   "metadata": {},
   "outputs": [
    {
     "ename": "KeyError",
     "evalue": "(4, 0, 1, 12)",
     "output_type": "error",
     "traceback": [
      "\u001b[0;31m---------------------------------------------------------------------------\u001b[0m",
      "\u001b[0;31mKeyError\u001b[0m                                  Traceback (most recent call last)",
      "\u001b[0;32m<ipython-input-113-4bb3f0a058fd>\u001b[0m in \u001b[0;36m<module>\u001b[0;34m()\u001b[0m\n\u001b[1;32m      6\u001b[0m         \u001b[0;32mfor\u001b[0m \u001b[0mk\u001b[0m \u001b[0;32min\u001b[0m \u001b[0mrange\u001b[0m\u001b[0;34m(\u001b[0m\u001b[0mq\u001b[0m\u001b[0;34m)\u001b[0m\u001b[0;34m:\u001b[0m\u001b[0;34m\u001b[0m\u001b[0m\n\u001b[1;32m      7\u001b[0m             \u001b[0;32mfor\u001b[0m \u001b[0mi\u001b[0m \u001b[0;32min\u001b[0m \u001b[0mrange\u001b[0m\u001b[0;34m(\u001b[0m\u001b[0mp\u001b[0m\u001b[0;34m)\u001b[0m\u001b[0;34m:\u001b[0m\u001b[0;34m\u001b[0m\u001b[0m\n\u001b[0;32m----> 8\u001b[0;31m                 \u001b[0;32mif\u001b[0m \u001b[0mX\u001b[0m\u001b[0;34m[\u001b[0m\u001b[0mi\u001b[0m\u001b[0;34m,\u001b[0m\u001b[0mj\u001b[0m\u001b[0;34m,\u001b[0m\u001b[0mk\u001b[0m\u001b[0;34m,\u001b[0m\u001b[0mt\u001b[0m\u001b[0;34m]\u001b[0m\u001b[0;34m.\u001b[0m\u001b[0mx\u001b[0m \u001b[0;34m>\u001b[0m \u001b[0;36m0\u001b[0m \u001b[0;34m:\u001b[0m\u001b[0;34m\u001b[0m\u001b[0m\n\u001b[0m\u001b[1;32m      9\u001b[0m                     \u001b[0;32mif\u001b[0m \u001b[0mt\u001b[0m\u001b[0;34m<\u001b[0m\u001b[0mt_start\u001b[0m\u001b[0;34m:\u001b[0m\u001b[0;34m\u001b[0m\u001b[0m\n\u001b[1;32m     10\u001b[0m                         \u001b[0mt\u001b[0m \u001b[0;34m=\u001b[0m \u001b[0mt_start\u001b[0m\u001b[0;34m\u001b[0m\u001b[0m\n",
      "\u001b[0;31mKeyError\u001b[0m: (4, 0, 1, 12)"
     ]
    }
   ],
   "source": [
    "T = model.addVars(n, vtype=GRB.INTEGER)  # durée du projet\n",
    "\n",
    "for j in range(n):\n",
    "    t_start = h        \n",
    "    for t in range(h):\n",
    "        for k in range(q):\n",
    "            for i in range(p):\n",
    "                if X[i,j,k,t].x > 0 :\n",
    "                    if t<t_start:\n",
    "                        t = t_start\n",
    "                    else:\n",
    "                        model.addConstr( t - t_start <= T[j] for j in range(n))"
   ]
  },
  {
   "cell_type": "code",
   "execution_count": null,
   "metadata": {},
   "outputs": [
    {
     "ename": "NameError",
     "evalue": "name 'T' is not defined",
     "output_type": "error",
     "traceback": [
      "\u001b[0;31m---------------------------------------------------------------------------\u001b[0m",
      "\u001b[0;31mNameError\u001b[0m                                 Traceback (most recent call last)",
      "\u001b[0;32m<ipython-input-109-fafef76953c9>\u001b[0m in \u001b[0;36m<module>\u001b[0;34m()\u001b[0m\n\u001b[1;32m      1\u001b[0m \u001b[0;32mfor\u001b[0m \u001b[0mj\u001b[0m \u001b[0;32min\u001b[0m \u001b[0mrange\u001b[0m\u001b[0;34m(\u001b[0m\u001b[0mn\u001b[0m\u001b[0;34m)\u001b[0m\u001b[0;34m:\u001b[0m\u001b[0;34m\u001b[0m\u001b[0m\n\u001b[0;32m----> 2\u001b[0;31m     \u001b[0mmodel\u001b[0m\u001b[0;34m.\u001b[0m\u001b[0msetObjective\u001b[0m\u001b[0;34m(\u001b[0m\u001b[0mT\u001b[0m\u001b[0;34m[\u001b[0m\u001b[0mj\u001b[0m\u001b[0;34m]\u001b[0m\u001b[0;34m,\u001b[0m \u001b[0mGRB\u001b[0m\u001b[0;34m.\u001b[0m\u001b[0mMINIMIZE\u001b[0m\u001b[0;34m)\u001b[0m\u001b[0;34m\u001b[0m\u001b[0m\n\u001b[0m\u001b[1;32m      3\u001b[0m \u001b[0;34m\u001b[0m\u001b[0m\n\u001b[1;32m      4\u001b[0m \u001b[0;31m#model.optimize()\u001b[0m\u001b[0;34m\u001b[0m\u001b[0;34m\u001b[0m\u001b[0m\n\u001b[1;32m      5\u001b[0m \u001b[0;31m#print(\"\\nOptimal objective value: \", model.ObjVal)\u001b[0m\u001b[0;34m\u001b[0m\u001b[0;34m\u001b[0m\u001b[0m\n",
      "\u001b[0;31mNameError\u001b[0m: name 'T' is not defined"
     ]
    }
   ],
   "source": [
    "for j in range(n):\n",
    "    model.setObjective(T[j], GRB.MINIMIZE)\n",
    "\n",
    "#model.optimize()\n",
    "#print(\"\\nOptimal objective value: \", model.ObjVal)"
   ]
  },
  {
   "cell_type": "code",
   "execution_count": 106,
   "metadata": {},
   "outputs": [
    {
     "name": "stdout",
     "output_type": "stream",
     "text": [
      "\n",
      "Emploi du temps personne  0  : \n",
      "Jour  1  Compétence  0  sur projet  1\n",
      "Jour  2  Compétence  0  sur projet  0\n",
      "Jour  3  Compétence  0  sur projet  0\n",
      "Jour  4  Compétence  1  sur projet  1\n",
      "Jour  6  Compétence  1  sur projet  3\n",
      "Jour  7  Compétence  0  sur projet  2\n",
      "Jours travailés :  6\n",
      "\n",
      "Emploi du temps personne  1  : \n",
      "Jour  0  Compétence  2  sur projet  1\n",
      "Jour  1  Compétence  2  sur projet  1\n",
      "Jour  2  Compétence  2  sur projet  1\n",
      "Jour  3  Compétence  2  sur projet  1\n",
      "Jour  4  Compétence  2  sur projet  2\n",
      "Jour  5  Compétence  2  sur projet  1\n",
      "Jour  6  Compétence  2  sur projet  2\n",
      "Jour  7  Compétence  2  sur projet  3\n",
      "Jour  8  Compétence  2  sur projet  2\n",
      "Jour  9  Compétence  2  sur projet  4\n",
      "Jour  10  Compétence  2  sur projet  4\n",
      "Jours travailés :  11\n",
      "\n",
      "Emploi du temps personne  2  : \n",
      "Jour  0  Compétence  0  sur projet  1\n",
      "Jour  1  Compétence  0  sur projet  0\n",
      "Jour  2  Compétence  0  sur projet  2\n",
      "Jour  3  Compétence  0  sur projet  0\n",
      "Jour  4  Compétence  0  sur projet  3\n",
      "Jour  5  Compétence  0  sur projet  1\n",
      "Jour  6  Compétence  0  sur projet  2\n",
      "Jour  8  Compétence  0  sur projet  2\n",
      "Jour  9  Compétence  0  sur projet  3\n",
      "Jour  10  Compétence  0  sur projet  4\n",
      "Jours travailés :  10\n",
      "\n",
      "Emploi du temps personne  3  : \n",
      "Jour  0  Compétence  1  sur projet  0\n",
      "Jour  1  Compétence  1  sur projet  0\n",
      "Jour  2  Compétence  1  sur projet  0\n",
      "Jour  3  Compétence  1  sur projet  3\n",
      "Jour  4  Compétence  1  sur projet  2\n",
      "Jour  5  Compétence  1  sur projet  1\n",
      "Jour  6  Compétence  1  sur projet  3\n",
      "Jour  8  Compétence  1  sur projet  4\n",
      "Jours travailés :  8\n",
      "\n",
      "Emploi du temps personne  4  : \n",
      "Jour  0  Compétence  2  sur projet  0\n",
      "Jour  1  Compétence  2  sur projet  2\n",
      "Jour  2  Compétence  2  sur projet  0\n",
      "Jour  3  Compétence  2  sur projet  1\n",
      "Jour  4  Compétence  2  sur projet  1\n",
      "Jour  5  Compétence  2  sur projet  3\n",
      "Jour  6  Compétence  0  sur projet  3\n",
      "Jour  7  Compétence  2  sur projet  2\n",
      "Jour  8  Compétence  2  sur projet  4\n",
      "Jour  9  Compétence  2  sur projet  3\n",
      "Jour  11  Compétence  2  sur projet  4\n",
      "Jours travailés :  11\n"
     ]
    }
   ],
   "source": [
    "for i in range(p):\n",
    "    jours_travaille = 0\n",
    "    print(\"\\nEmploi du temps personne \",i, \" : \")\n",
    "    for t in range(h):\n",
    "        for k in range(q):\n",
    "            for j in range(n):\n",
    "                if X[i,j,k,t].x != 0:\n",
    "                    jours_travaille += 1\n",
    "                    print(\"Jour \", t, \" Compétence \", k, \" sur projet \", j)\n",
    "    print(\"Jours travailés : \", jours_travaille)"
   ]
  },
  {
   "cell_type": "code",
   "execution_count": 104,
   "metadata": {},
   "outputs": [
    {
     "name": "stdout",
     "output_type": "stream",
     "text": [
      "\n",
      "Allocation pour le projet  0  : \n",
      " Compétence  0  par personne  0  Jour  2\n",
      " Compétence  0  par personne  0  Jour  3\n",
      " Compétence  0  par personne  2  Jour  1\n",
      " Compétence  0  par personne  2  Jour  3\n",
      " Compétence  1  par personne  3  Jour  0\n",
      " Compétence  1  par personne  3  Jour  1\n",
      " Compétence  1  par personne  3  Jour  2\n",
      " Compétence  2  par personne  4  Jour  0\n",
      " Compétence  2  par personne  4  Jour  2\n",
      "\n",
      "Allocation pour le projet  1  : \n",
      " Compétence  0  par personne  0  Jour  1\n",
      " Compétence  0  par personne  2  Jour  0\n",
      " Compétence  0  par personne  2  Jour  5\n",
      " Compétence  1  par personne  0  Jour  4\n",
      " Compétence  1  par personne  3  Jour  5\n",
      " Compétence  2  par personne  1  Jour  0\n",
      " Compétence  2  par personne  1  Jour  1\n",
      " Compétence  2  par personne  1  Jour  2\n",
      " Compétence  2  par personne  1  Jour  3\n",
      " Compétence  2  par personne  1  Jour  5\n",
      " Compétence  2  par personne  4  Jour  3\n",
      " Compétence  2  par personne  4  Jour  4\n",
      "\n",
      "Allocation pour le projet  2  : \n",
      " Compétence  0  par personne  0  Jour  7\n",
      " Compétence  0  par personne  2  Jour  2\n",
      " Compétence  0  par personne  2  Jour  6\n",
      " Compétence  0  par personne  2  Jour  8\n",
      " Compétence  1  par personne  3  Jour  4\n",
      " Compétence  2  par personne  1  Jour  4\n",
      " Compétence  2  par personne  1  Jour  6\n",
      " Compétence  2  par personne  1  Jour  8\n",
      " Compétence  2  par personne  4  Jour  1\n",
      " Compétence  2  par personne  4  Jour  7\n",
      "\n",
      "Allocation pour le projet  3  : \n",
      " Compétence  0  par personne  2  Jour  4\n",
      " Compétence  0  par personne  2  Jour  9\n",
      " Compétence  0  par personne  4  Jour  6\n",
      " Compétence  1  par personne  0  Jour  6\n",
      " Compétence  1  par personne  3  Jour  3\n",
      " Compétence  1  par personne  3  Jour  6\n",
      " Compétence  2  par personne  1  Jour  7\n",
      " Compétence  2  par personne  4  Jour  5\n",
      " Compétence  2  par personne  4  Jour  9\n",
      "\n",
      "Allocation pour le projet  4  : \n",
      " Compétence  0  par personne  2  Jour  10\n",
      " Compétence  1  par personne  3  Jour  8\n",
      " Compétence  2  par personne  1  Jour  9\n",
      " Compétence  2  par personne  1  Jour  10\n",
      " Compétence  2  par personne  4  Jour  8\n",
      " Compétence  2  par personne  4  Jour  11\n"
     ]
    }
   ],
   "source": [
    "for j in range(n):\n",
    "    print(\"\\nAllocation pour le projet \",j, \" : \")\n",
    "    for k in range(q):\n",
    "        for i in range(p):\n",
    "            for t in range(h):\n",
    "                if X[i,j,k,t].x != 0:\n",
    "                    print(\" Compétence \", k, \" par personne \", i, \" Jour \", t)"
   ]
  },
  {
   "cell_type": "markdown",
   "metadata": {},
   "source": [
    "# Objective function"
   ]
  },
  {
   "cell_type": "markdown",
   "metadata": {},
   "source": [
    "https://www.gurobi.com/documentation/9.5/refman/py_model_setobjective.html#pythonmethod:Model.setObjective\n",
    "https://www.gurobi.com/documentation/9.5/refman/py_model_setobjectiven.html#pythonmethod:Model.setObjectiveN"
   ]
  },
  {
   "cell_type": "code",
   "execution_count": 6,
   "metadata": {},
   "outputs": [
    {
     "ename": "NameError",
     "evalue": "name 'N' is not defined",
     "output_type": "error",
     "traceback": [
      "\u001b[0;31m---------------------------------------------------------------------------\u001b[0m",
      "\u001b[0;31mNameError\u001b[0m                                 Traceback (most recent call last)",
      "\u001b[0;32m<ipython-input-6-d6262d561c27>\u001b[0m in \u001b[0;36m<module>\u001b[0;34m()\u001b[0m\n\u001b[1;32m      1\u001b[0m \u001b[0;31m# Add objective function\u001b[0m\u001b[0;34m\u001b[0m\u001b[0;34m\u001b[0m\u001b[0m\n\u001b[1;32m      2\u001b[0m \u001b[0;31m# i.e. maximize the difference N_2 - N_1\u001b[0m\u001b[0;34m\u001b[0m\u001b[0;34m\u001b[0m\u001b[0m\n\u001b[0;32m----> 3\u001b[0;31m \u001b[0mmodel\u001b[0m\u001b[0;34m.\u001b[0m\u001b[0msetObjective\u001b[0m\u001b[0;34m(\u001b[0m\u001b[0mN\u001b[0m\u001b[0;34m[\u001b[0m\u001b[0;36m2\u001b[0m\u001b[0;34m]\u001b[0m \u001b[0;34m-\u001b[0m \u001b[0mN\u001b[0m\u001b[0;34m[\u001b[0m\u001b[0;36m1\u001b[0m\u001b[0;34m]\u001b[0m\u001b[0;34m,\u001b[0m \u001b[0mGRB\u001b[0m\u001b[0;34m.\u001b[0m\u001b[0mMAXIMIZE\u001b[0m\u001b[0;34m)\u001b[0m\u001b[0;34m\u001b[0m\u001b[0m\n\u001b[0m\u001b[1;32m      4\u001b[0m \u001b[0;34m\u001b[0m\u001b[0m\n\u001b[1;32m      5\u001b[0m \u001b[0;31m# Add multi-objective function\u001b[0m\u001b[0;34m\u001b[0m\u001b[0;34m\u001b[0m\u001b[0m\n",
      "\u001b[0;31mNameError\u001b[0m: name 'N' is not defined"
     ]
    }
   ],
   "source": [
    "# Add objective function\n",
    "# i.e. maximize the difference N_2 - N_1\n",
    "# model.setObjective(N[2] - N[1], GRB.MAXIMIZE)\n",
    "\n",
    "# Add multi-objective function\n",
    "# i.e. minimize the sum M + N_1 + N_2 and then maximize the difference N_2 - N_1\n",
    "# model.ModelSense = GRB.MINIMIZE\n",
    "# model.setObjectiveN(total_sum, 0, 2)\n",
    "# model.setObjectiveN(N[1] - N[2], 1, 1)"
   ]
  },
  {
   "cell_type": "markdown",
   "metadata": {},
   "source": [
    "# Solving"
   ]
  },
  {
   "cell_type": "markdown",
   "metadata": {},
   "source": [
    "https://www.gurobi.com/documentation/9.5/refman/py_model_optimize.html"
   ]
  },
  {
   "cell_type": "code",
   "execution_count": null,
   "metadata": {},
   "outputs": [],
   "source": [
    "# Update model\n",
    "model.update()"
   ]
  },
  {
   "cell_type": "code",
   "execution_count": null,
   "metadata": {},
   "outputs": [
    {
     "name": "stdout",
     "output_type": "stream",
     "text": [
      "Minimize\n",
      "   <gurobi.LinExpr: M + N[1] + N[2]>\n",
      "Subject To\n",
      "   MVsDecimalDecomposition : <gurobi.LinExpr: M + -1.0 D[0] + -10.0 D[1] + -100.0 D[2] + -1000.0 D[3]> = 0.0\n",
      "   SumDigits : <gurobi.LinExpr: D[0] + D[1] + D[2] + D[3]> = 12.0\n",
      "   IncreasingDigits[0] : <gurobi.LinExpr: -1.0 D[0] + D[1]> <= -1.0\n",
      "   IncreasingDigits[1] : <gurobi.LinExpr: -1.0 D[1] + D[2]> <= -1.0\n",
      "   IncreasingDigits[2] : <gurobi.LinExpr: -1.0 D[2] + D[3]> <= -1.0\n",
      "   NVsBinaryDecomposition[1] : <gurobi.LinExpr: N[1] + -1.0 B[1,0] + -2.0 B[1,1] + -4.0 B[1,2] + -8.0 B[1,3] + -16.0 B[1,4] + -32.0 B[1,5] + -64.0 B[1,6] + -128.0 B[1,7] + -256.0 B[1,8] + -512.0 B[1,9]> = 0.0\n",
      "   NVsBinaryDecomposition[2] : <gurobi.LinExpr: N[2] + -1.0 B[2,0] + -2.0 B[2,1] + -4.0 B[2,2] + -8.0 B[2,3] + -16.0 B[2,4] + -32.0 B[2,5] + -64.0 B[2,6] + -128.0 B[2,7] + -256.0 B[2,8] + -512.0 B[2,9]> = 0.0\n",
      "   NbNonZeroDigitsLB[1] : <gurobi.LinExpr: B[1,0] + B[1,1] + B[1,2] + B[1,3] + B[1,4] + B[1,5] + B[1,6] + B[1,7] + B[1,8] + B[1,9]> >= 2.0\n",
      "   NbNonZeroDigitsUB[1] : <gurobi.LinExpr: B[1,0] + B[1,1] + B[1,2] + B[1,3] + B[1,4] + B[1,5] + B[1,6] + B[1,7] + B[1,8] + B[1,9]> <= 6.0\n",
      "   NbNonZeroDigitsLB[2] : <gurobi.LinExpr: B[2,0] + B[2,1] + B[2,2] + B[2,3] + B[2,4] + B[2,5] + B[2,6] + B[2,7] + B[2,8] + B[2,9]> >= 2.0\n",
      "   NbNonZeroDigitsUB[2] : <gurobi.LinExpr: B[2,0] + B[2,1] + B[2,2] + B[2,3] + B[2,4] + B[2,5] + B[2,6] + B[2,7] + B[2,8] + B[2,9]> <= 6.0\n",
      "   Sum : <gurobi.LinExpr: -1.0 M + N[1] + N[2]> = 0.0\n",
      "   Order : <gurobi.LinExpr: -1.0 N[1] + N[2]> >= 0.0\n",
      "Bounds\n",
      "   -0.0 <= D[0] <= 9.0\n",
      "   -0.0 <= D[1] <= 9.0\n",
      "   -0.0 <= D[2] <= 9.0\n",
      "   -0.0 <= D[3] <= 9.0\n",
      "Binaries\n",
      "   ['B[1,0]', 'B[1,1]', 'B[1,2]', 'B[1,3]', 'B[1,4]', 'B[1,5]', 'B[1,6]', 'B[1,7]', 'B[1,8]', 'B[1,9]', 'B[2,0]', 'B[2,1]', 'B[2,2]', 'B[2,3]', 'B[2,4]', 'B[2,5]', 'B[2,6]', 'B[2,7]', 'B[2,8]', 'B[2,9]']\n",
      "General Integers\n",
      "   ['M', 'D[0]', 'D[1]', 'D[2]', 'D[3]', 'N[1]', 'N[2]']\n"
     ]
    }
   ],
   "source": [
    "# Display model\n",
    "model.display()"
   ]
  },
  {
   "cell_type": "code",
   "execution_count": null,
   "metadata": {},
   "outputs": [
    {
     "name": "stdout",
     "output_type": "stream",
     "text": [
      "Gurobi Optimizer version 9.1.0 build v9.1.0rc0 (mac64)\n",
      "Thread count: 4 physical cores, 8 logical processors, using up to 8 threads\n",
      "Optimize a model with 13 rows, 27 columns and 82 nonzeros\n",
      "Model fingerprint: 0x9bcde240\n",
      "Variable types: 0 continuous, 27 integer (20 binary)\n",
      "Coefficient statistics:\n",
      "  Matrix range     [1e+00, 1e+03]\n",
      "  Objective range  [1e+00, 1e+00]\n",
      "  Bounds range     [1e+00, 9e+00]\n",
      "  RHS range        [1e+00, 1e+01]\n",
      "\n",
      "---------------------------------------------------------------------------\n",
      "Multi-objectives: starting optimization with 2 objectives ... \n",
      "---------------------------------------------------------------------------\n",
      "\n",
      "Multi-objectives: applying initial presolve ...\n",
      "---------------------------------------------------------------------------\n",
      "\n",
      "Presolve removed 2 rows and 3 columns\n",
      "Presolve time: 0.00s\n",
      "Presolved: 11 rows and 24 columns\n",
      "---------------------------------------------------------------------------\n",
      "\n",
      "Multi-objectives: optimize objective 1 () ...\n",
      "---------------------------------------------------------------------------\n",
      "\n",
      "Found heuristic solution: objective 474.0000000\n",
      "Presolve removed 2 rows and 6 columns\n",
      "Presolve time: 0.00s\n",
      "Presolved: 9 rows, 18 columns, 56 nonzeros\n",
      "Variable types: 0 continuous, 18 integer (15 binary)\n",
      "\n",
      "Root relaxation: objective 2.580000e+02, 7 iterations, 0.00 seconds\n",
      "\n",
      "    Nodes    |    Current Node    |     Objective Bounds      |     Work\n",
      " Expl Unexpl |  Obj  Depth IntInf | Incumbent    BestBd   Gap | It/Node Time\n",
      "\n",
      "     0     0  258.00000    0    3  474.00000  258.00000  45.6%     -    0s\n",
      "H    0     0                     276.0000000  258.00000  6.52%     -    0s\n",
      "H    0     0                     258.0000000  258.00000  0.00%     -    0s\n",
      "     0     0  258.00000    0    3  258.00000  258.00000  0.00%     -    0s\n",
      "\n",
      "Explored 1 nodes (7 simplex iterations) in 0.03 seconds\n",
      "Thread count was 8 (of 8 available processors)\n",
      "\n",
      "Solution count 3: 258 276 474 \n",
      "\n",
      "Optimal solution found (tolerance 1.00e-04)\n",
      "Best objective 2.580000000000e+02, best bound 2.580000000000e+02, gap 0.0000%\n",
      "---------------------------------------------------------------------------\n",
      "\n",
      "Multi-objectives: optimize objective 2 () ...\n",
      "---------------------------------------------------------------------------\n",
      "\n",
      "\n",
      "Loaded user MIP start with objective -123\n",
      "\n",
      "Presolve removed 12 rows and 24 columns\n",
      "Presolve time: 0.00s\n",
      "Presolve: All rows and columns removed\n",
      "\n",
      "Explored 0 nodes (0 simplex iterations) in 0.04 seconds\n",
      "Thread count was 1 (of 8 available processors)\n",
      "\n",
      "Solution count 1: -123 \n",
      "No other solutions better than -123\n",
      "\n",
      "Optimal solution found (tolerance 1.00e-04)\n",
      "Best objective -1.230000000000e+02, best bound -1.230000000000e+02, gap 0.0000%\n",
      "\n",
      "---------------------------------------------------------------------------\n",
      "Multi-objectives: solved in 0.04 seconds, solution count 3\n",
      "\n"
     ]
    }
   ],
   "source": [
    "# Solving\n",
    "# model.params.outputflag = 0 # Mute\n",
    "# model.setParam('TimeLimit', 30) # Time limit in seconds\n",
    "model.optimize()"
   ]
  },
  {
   "cell_type": "code",
   "execution_count": null,
   "metadata": {},
   "outputs": [
    {
     "name": "stdout",
     "output_type": "stream",
     "text": [
      "True False False\n"
     ]
    }
   ],
   "source": [
    "# Get optimization status\n",
    "print(model.Status == GRB.OPTIMAL, model.Status == GRB.TIME_LIMIT, model.Status == GRB.INFEASIBLE)"
   ]
  },
  {
   "cell_type": "markdown",
   "metadata": {},
   "source": [
    "# Results"
   ]
  },
  {
   "cell_type": "code",
   "execution_count": null,
   "metadata": {},
   "outputs": [
    {
     "name": "stdout",
     "output_type": "stream",
     "text": [
      "258.0\n"
     ]
    }
   ],
   "source": [
    "# Get objective value\n",
    "objective_value = model.objVal\n",
    "print(objective_value)"
   ]
  },
  {
   "cell_type": "markdown",
   "metadata": {},
   "source": [
    "https://www.gurobi.com/documentation/9.5/refman/py_model_getvarbyname.html"
   ]
  },
  {
   "cell_type": "code",
   "execution_count": null,
   "metadata": {},
   "outputs": [
    {
     "name": "stdout",
     "output_type": "stream",
     "text": [
      "M=129.0, N_1=3.0, N_2=126.0, B_(1,0)=1.0, B_(2,0)=-0.0\n"
     ]
    }
   ],
   "source": [
    "# Get decision variables values\n",
    "print(f\"M={M.x}, N_1={N[1].x}, N_2={N[2].x}, B_(1,0)={B[1, 0].x}, B_(2,0)={B[2, 0].x}\")\n",
    "# or\n",
    "# print(f\"M={model.getVarByName('M').x}, \\\n",
    "#     N_1={model.getVarByName('N[1]').x}, N_2={model.getVarByName('N[2]').x}, \\\n",
    "#     B_(1,0)={model.getVarByName('B[1,0]').x}, B_(2,0)={model.getVarByName('B[2,0]').x}\")"
   ]
  },
  {
   "cell_type": "code",
   "execution_count": null,
   "metadata": {},
   "outputs": [
    {
     "name": "stdout",
     "output_type": "stream",
     "text": [
      "258.0\n"
     ]
    }
   ],
   "source": [
    "# Get linear expression values\n",
    "print(total_sum.getValue())"
   ]
  }
 ],
 "metadata": {
  "kernelspec": {
   "display_name": "base",
   "language": "python",
   "name": "python3"
  },
  "language_info": {
   "codemirror_mode": {
    "name": "ipython",
    "version": 3
   },
   "file_extension": ".py",
   "mimetype": "text/x-python",
   "name": "python",
   "nbconvert_exporter": "python",
   "pygments_lexer": "ipython3",
   "version": "3.6.3"
  },
  "orig_nbformat": 4,
  "vscode": {
   "interpreter": {
    "hash": "c8cce8c8e7a50de7def9915479d34fe65073be37c4dea67c74fddd604436eeb6"
   }
  }
 },
 "nbformat": 4,
 "nbformat_minor": 2
}
